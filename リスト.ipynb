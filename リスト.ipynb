{
 "cells": [
  {
   "cell_type": "markdown",
   "metadata": {},
   "source": [
    "# リストとは    \n",
    "* ## []の中に , で区切ったデータをまとめて格納できる大箱  \n",
    "\n",
    "\n",
    "* line = [\"山田”,”田中”,”鈴木”」\n",
    "    * line = 大箱\n",
    "    * []の入ってる”山田””田中””鈴木”を<font color=\"Red\">要素</font>と呼ぶ\n",
    "    * []に入ってる要素は0～数える  (数の事を<font color=\"Red\">インデックス</font>と呼ぶ)\n",
    "      [\"山田”,”田中”,”鈴木”」の山田=0番、田中=1番、鈴木=2番\n",
    "   "
   ]
  },
  {
   "cell_type": "code",
   "execution_count": 9,
   "metadata": {},
   "outputs": [
    {
     "name": "stdout",
     "output_type": "stream",
     "text": [
      "['a', 'b', 'c', 'd']\n",
      "4\n",
      "['a', 'b', 'h', 'd']\n",
      "['a', 'b', 'h', 'd', 'e']\n",
      "['a', 'b', 'd', 'e']\n",
      "h\n"
     ]
    }
   ],
   "source": [
    "#[]は複数の値を０からの番号で管理する\n",
    "team = [\"a\", \"b\", \"c\", \"d\"]\n",
    "print(team)\n",
    "\n",
    "#len関数は管理している値の個数を表示する\n",
    "print(len(team))\n",
    "\n",
    "#[]の値に変更したい番号を指定して、=で結び変更名を当てはめる\n",
    "team[2] = \"h\"\n",
    "print(team)\n",
    "\n",
    "#appendは要素の末尾に新たな値を追加する関数\n",
    "team.append(\"e\")\n",
    "print(team)\n",
    "\n",
    "#popは指定した値、上記の場合はteam内の2個目が抜き取られる\n",
    "hentai = team.pop(2)\n",
    "print(team)\n",
    "print(hentai)"
   ]
  },
  {
   "cell_type": "code",
   "execution_count": 36,
   "metadata": {},
   "outputs": [
    {
     "name": "stdout",
     "output_type": "stream",
     "text": [
      "select name='job'\n",
      "<option>a</option>\n",
      "<option>b</option>\n",
      "<option>c</option>\n",
      "<option>d</option>\n",
      "</option>\n"
     ]
    }
   ],
   "source": [
    "team = [\"a\", \"b\", \"c\", \"d\"]\n",
    "\n",
    "print(\"select name='job'\")\n",
    "for job in team:\n",
    "    print(\"<option>\" + job + \"</option>\")\n",
    "print(\"</option>\")"
   ]
  },
  {
   "cell_type": "code",
   "execution_count": 46,
   "metadata": {},
   "outputs": [
    {
     "name": "stdout",
     "output_type": "stream",
     "text": [
      "a b c\n",
      "['a', 'b', 'c']\n"
     ]
    }
   ],
   "source": [
    "line = input().rstrip().split(\" \")\n",
    "print(line)"
   ]
  },
  {
   "cell_type": "code",
   "execution_count": null,
   "metadata": {},
   "outputs": [],
   "source": [
    "team_str = \"勇者,戦士,忍者,魔法使い\"\n",
    "team_str = team_str.split(\",\")\n",
    "\n",
    "import random\n",
    "num = random.randint(0, 3)\n",
    "\n",
    "print(team_str[num])"
   ]
  },
  {
   "cell_type": "code",
   "execution_count": null,
   "metadata": {},
   "outputs": [],
   "source": [
    "import sys\n",
    "#sys.stdin.readlines関数 ↓\n",
    "#ファイルを全て読み込み、1行毎に処理\n",
    "for line in sys.stdin.readlines():\n",
    "\t# ここに、文字列を分割して、出力するコードを書く\n",
    "\t#enemy = input().rstrip(),split(\",\")\n",
    "    #rstrip関数 文字列の末尾の改行コードを取り除きます。\n",
    "    \n",
    "\tenemy = line.rstrip().split(\",\")\n",
    "\tprint(\"{}が{}匹現れた\".format(enemy[0],enemy[1])"
   ]
  },
  {
   "cell_type": "code",
   "execution_count": null,
   "metadata": {},
   "outputs": [],
   "source": [
    "import random\n",
    "line = input().rstrip().split(\",\")\n",
    "for enemy in line:\n",
    "\tprint(enemy + \"が現れた！\")\n",
    "    \n",
    "#ランダムな数を作る範囲を調べる\n",
    "num = len(line)\n",
    "print(\"敵は{}匹\".format(num))\n",
    "#ランダムな数を生成\n",
    "attack = random.randrange(num)\n",
    "\n",
    "#選んだ敵に\"会心の一撃\"と表示\n",
    "print(line[attack] + \"に会心の一撃\" + line[attack] + \"を倒した\")\n",
    "#これのfprmatのやり方聞きたい"
   ]
  },
  {
   "cell_type": "code",
   "execution_count": null,
   "metadata": {},
   "outputs": [],
   "source": [
    "\n",
    "入力エリアに、じゃんけんの手(例：グー,チョキ,パー)が用意してあります。\n",
    "右のコードエリアのコメントを参考にして、じゃんけんプログラムを作ってください。\n",
    "じゃんけんの手は、標準入力から読み込んだ文字列をカンマで分割して、そのうち1つをランダムに出力します。\n",
    "このとき、カンマで分割したリストをprint関数で出力して、それからじゃんけんの結果を出力してください。\n",
    "\n",
    "プログラムを実行して、正しく出力されれば演習課題クリアです！\n",
    "\n",
    " 入力される値\n",
    "グー,チョキ,パー\n",
    "\n",
    " 標準入力からの値取得方法はこちらをご確認ください\n",
    "\n",
    " 期待する出力値\n",
    "['グー', 'チョキ', 'パー']\n",
    "グー"
   ]
  },
  {
   "cell_type": "code",
   "execution_count": null,
   "metadata": {},
   "outputs": [],
   "source": [
    "# coding: utf-8\n",
    "# じゃんけんプログラム\n",
    "\n",
    "import random\n",
    "# 標準入力から1行取得\n",
    "line = input().rstrip()\n",
    "\n",
    "# カンマで分割して、リストに代入\n",
    "janken = line.split(\",\")\n",
    "\n",
    "# リストの要素数を変数に代入\n",
    "num = len(janken)\n",
    "\n",
    "# リストの中身を出力\n",
    "print(janken)\n",
    "\n",
    "# ランダムに選んだリストの要素を出力\n",
    "print(janken[random.randrange(num)])\n"
   ]
  },
  {
   "cell_type": "code",
   "execution_count": null,
   "metadata": {},
   "outputs": [],
   "source": [
    "import random\n",
    "line = input().rstrip().split(\",\")\n",
    "\n",
    "# カンマで分割して、リストに代入\n",
    "#ran = line.split(\",\")\n",
    "un = len(line) #この行でlineの数を出す\n",
    "print(line)#ここでは,で区切ったリストの値を出す\n",
    "print(line[random.randrange(un)])\n",
    "\n",
    "#こっちの方がスマートでは？"
   ]
  }
 ],
 "metadata": {
  "kernelspec": {
   "display_name": "Python 3",
   "language": "python",
   "name": "python3"
  },
  "language_info": {
   "codemirror_mode": {
    "name": "ipython",
    "version": 3
   },
   "file_extension": ".py",
   "mimetype": "text/x-python",
   "name": "python",
   "nbconvert_exporter": "python",
   "pygments_lexer": "ipython3",
   "version": "3.8.3"
  }
 },
 "nbformat": 4,
 "nbformat_minor": 4
}
