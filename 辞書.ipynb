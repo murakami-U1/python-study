{
 "cells": [
  {
   "cell_type": "markdown",
   "metadata": {},
   "source": [
    "# 辞書\n",
    "\n",
    "* ## 辞書はリストのインデックス部分を<font color=\"Red\">文字列(キー)</font>で管理できる\n",
    "\n",
    "\n",
    "* リストの場合：＊()は箱、本来は()は入力しない\n",
    "    * line = [\"山田\"(0),\"田中\"(1),\"鈴木\"(2)]  \n",
    "      line[0] = \"山田\" line[1] = \"田中\" line[2] = \"鈴木\"  \n",
    "      print(line[0]) = \"山田\"となる  \n",
    "      \n",
    "      \n",
    "* 辞書(ディレクトリ)の場合 \"インデックスの代わりとなる文字列(村人)\":\"インデックスの対象となる値(山田)\"で入力する\n",
    "    * line = {\"村人\":\"山田\",\"商人\":\"田中\",\"武器屋\":\"鈴木\"}  \n",
    "      line[\"村人\"] = \"山田\" line[\"商人\"] = \"田中\" line[\"武器屋\"] = \"鈴木\"  \n",
    "      print(line[\"村人\"]) = \"山田\"となる  "
   ]
  },
  {
   "cell_type": "code",
   "execution_count": 10,
   "metadata": {},
   "outputs": [
    {
     "name": "stdout",
     "output_type": "stream",
     "text": [
      "山田\n"
     ]
    }
   ],
   "source": [
    "line = [\"山田\",\"田中\",\"鈴木\"] #リストの場合\n",
    "#line[0] = \"山田\" line[1] = \"田中\" line[2] = \"鈴木\"\n",
    "print(line[0]) "
   ]
  },
  {
   "cell_type": "code",
   "execution_count": 21,
   "metadata": {},
   "outputs": [
    {
     "name": "stdout",
     "output_type": "stream",
     "text": [
      "山田\n"
     ]
    }
   ],
   "source": [
    "line = {\"村人\":\"山田\",\"商人\":\"田中\",\"武器屋\":\"鈴木\"} #辞書の場合\n",
    "      #line[\"村人\"] = \"山田\" line[\"商人\"] = \"田中\" line[\"武器屋\"] = \"鈴木\"  \n",
    "print(line[\"村人\"])"
   ]
  },
  {
   "cell_type": "markdown",
   "metadata": {},
   "source": [
    "* enemies = {\"ザコ\":\"スライム\", \"中ボス\":\"ドラゴン\", \"ラスボス\":\"魔王\"}  \n",
    "    print(enemies)  \n",
    "    print(enemies[\"中ボス\"])  \n",
    "    print(len(enemies))  \n",
    "\n",
    "* ディレクトリ(enemies)に[]に文字列(\"ザコ\")を加え、それに文字列(\"メタルモンスター\")を = (代入)をする  \n",
    "    enemies[\"ザコ2\"] = \"メタルモンスター\"  \n",
    "    print(enemies)  \n",
    "    print(len(enemies))  #リストでも使用したlen関数を使用し、区分けされている数を割り出す。  \n",
    "\n",
    "* ディレクトリ(enemies)に[]に変更したい文字列(\"中ボス\")を入れ、それに変更内容の文字列(\"レッドドラゴン\")を = (代入)をする  \n",
    "    enemies[\"中ボス\"] = \"レッドドラゴン\"  \n",
    "    print(enemies)  \n",
    "    print(len(enemies))  \n",
    "\n",
    "* del関数はディレクトリ(enemies)の[]に入る文字列(\"ザコ\")を指定し消すことができる　　\n",
    "    del enemies[\"ザコ\"]  \n",
    "    print(enemies)  \n",
    "    print(len(enemies))  "
   ]
  },
  {
   "cell_type": "markdown",
   "metadata": {},
   "source": [
    "* enemies = {\"ザコ\":\"スライム\", \"中ボス\":\"ドラゴン\", \"ラスボス\":\"魔王\"}  \n",
    "    print(enemies)  \n",
    "    print(enemies[\"中ボス\"])  \n",
    "    print(len(enemies))  \n",
    "\n",
    "* ディレクトリ(enemies)に[]に文字列(\"ザコ\")を加え、それに文字列(\"メタルモンスター\")を = (代入)をする  \n",
    "    enemies[\"ザコ2\"] = \"メタルモンスター\"  \n",
    "    print(enemies)  \n",
    "    print(len(enemies))  #リストでも使用したlen関数を使用し、区分けされている数を割り出す。  \n",
    "\n",
    "* ディレクトリ(enemies)に[]に変更したい文字列(\"中ボス\")を入れ、それに変更内容の文字列(\"レッドドラゴン\")を = (代入)をする  \n",
    "    enemies[\"中ボス\"] = \"レッドドラゴン\"  \n",
    "    print(enemies)  \n",
    "    print(len(enemies))  \n",
    "\n",
    "* del関数はディレクトリ(enemies)の[]に入る文字列(\"ザコ\")を指定し消すことができる　　\n",
    "    del enemies[\"ザコ\"]  \n",
    "    print(enemies)  \n",
    "    print(len(enemies))  "
   ]
  },
  {
   "cell_type": "code",
   "execution_count": 23,
   "metadata": {},
   "outputs": [
    {
     "name": "stdout",
     "output_type": "stream",
     "text": [
      "{'ザコ': 'スライム', '中ボス': 'ドラゴン', 'ラスボス': '魔王'}\n",
      "ドラゴン\n",
      "3\n",
      "{'ザコ': 'スライム', '中ボス': 'ドラゴン', 'ラスボス': '魔王', 'ザコ2': 'メタルモンスター'}\n",
      "4\n",
      "{'ザコ': 'スライム', '中ボス': 'レッドドラゴン', 'ラスボス': '魔王', 'ザコ2': 'メタルモンスター'}\n",
      "4\n",
      "{'中ボス': 'レッドドラゴン', 'ラスボス': '魔王', 'ザコ2': 'メタルモンスター'}\n",
      "3\n"
     ]
    }
   ],
   "source": [
    "enemies = {\"ザコ\":\"スライム\", \"中ボス\":\"ドラゴン\", \"ラスボス\":\"魔王\"}  \n",
    "print(enemies)  \n",
    "print(enemies[\"中ボス\"])  #プリントする文字列の指定\n",
    "print(len(enemies))  #リストでも使用したlen関数を使用し、区分けされている数を割り出す。  \n",
    "\n",
    "#ディレクトリ(enemies)に[]に文字列(\"ザコ\")を加え、それに文字列(\"メタルモンスター\")を = (代入)をする  \n",
    "enemies[\"ザコ2\"] = \"メタルモンスター\"  \n",
    "print(enemies)  \n",
    "print(len(enemies))  #リストでも使用したlen関数を使用し、区分けされている数を割り出す。  \n",
    "\n",
    "#ディレクトリ(enemies)に[]に変更したい文字列(\"中ボス\")を入れ、それに変更内容の文字列(\"レッドドラゴン\")を = (代入)をする  \n",
    "enemies[\"中ボス\"] = \"レッドドラゴン\"  \n",
    "print(enemies)  \n",
    "print(len(enemies))  #リストでも使用したlen関数を使用し、区分けされている数を割り出す。  \n",
    "\n",
    "#del関数はディレクトリ(enemies)の[]に入る文字列(\"ザコ\")を指定し消すことができる　　\n",
    "del enemies[\"ザコ\"]  \n",
    "print(enemies)  \n",
    "print(len(enemies))  #リストでも使用したlen関数を使用し、区分けされている数を割り出す。  "
   ]
  }
 ],
 "metadata": {
  "kernelspec": {
   "display_name": "Python 3",
   "language": "python",
   "name": "python3"
  },
  "language_info": {
   "codemirror_mode": {
    "name": "ipython",
    "version": 3
   },
   "file_extension": ".py",
   "mimetype": "text/x-python",
   "name": "python",
   "nbconvert_exporter": "python",
   "pygments_lexer": "ipython3",
   "version": "3.8.3"
  }
 },
 "nbformat": 4,
 "nbformat_minor": 4
}
